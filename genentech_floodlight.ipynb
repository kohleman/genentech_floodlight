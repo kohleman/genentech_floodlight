{
 "cells": [
  {
   "cell_type": "markdown",
   "metadata": {},
   "source": [
    "### Exploratory Analysis of Genetech's Floodlight data\n",
    "\n",
    "App is downloadable for the iPhone:\n",
    "https://itunes.apple.com/us/app/floodlight-open/id1365939494?ls=1&mt=8\n",
    "\n",
    "Limited to specific stores.\n",
    "\n",
    "Questionable: Do you already a bias by limiting the study to a specific platform? Probaly lower bias as the technological bias in general. The median age is 44 (number with data from 12.09.2018). Average diagnosis age is around 30.\n",
    "Also, much more women are affected."
   ]
  },
  {
   "cell_type": "code",
   "execution_count": 78,
   "metadata": {},
   "outputs": [],
   "source": [
    "import pandas as pd\n",
    "import matplotlib.pyplot as plt\n",
    "import numpy as np\n",
    "import seaborn as sns\n",
    "\n",
    "plt.style.use('ggplot')\n",
    "\n",
    "sns.set(color_codes=True)\n",
    "\n",
    "# Set ipython's max row display\n",
    "pd.set_option('display.max_row', 1000)\n",
    "\n",
    "# Set iPython's max column width to 50\n",
    "pd.set_option('display.max_columns', 50)\n",
    "\n",
    "%matplotlib inline"
   ]
  },
  {
   "cell_type": "code",
   "execution_count": 2,
   "metadata": {},
   "outputs": [],
   "source": [
    "# Import the data, downloaded from here: https://dataset.floodlightopen.com/public-blobs-prod/complete_dataset.csv\n",
    "raw_df = pd.read_csv(\"C:\\\\Users\\\\MKO\\\\Downloads\\\\complete_dataset.csv\")"
   ]
  },
  {
   "cell_type": "code",
   "execution_count": 79,
   "metadata": {},
   "outputs": [
    {
     "data": {
      "text/html": [
       "<div>\n",
       "<style scoped>\n",
       "    .dataframe tbody tr th:only-of-type {\n",
       "        vertical-align: middle;\n",
       "    }\n",
       "\n",
       "    .dataframe tbody tr th {\n",
       "        vertical-align: top;\n",
       "    }\n",
       "\n",
       "    .dataframe thead th {\n",
       "        text-align: right;\n",
       "    }\n",
       "</style>\n",
       "<table border=\"1\" class=\"dataframe\">\n",
       "  <thead>\n",
       "    <tr style=\"text-align: right;\">\n",
       "      <th></th>\n",
       "      <th>floodlightOpenId</th>\n",
       "      <th>participantCreatedOn</th>\n",
       "      <th>participantDemographicId</th>\n",
       "      <th>participantIsControl</th>\n",
       "      <th>participantCountryOfResidence</th>\n",
       "      <th>participantSex</th>\n",
       "      <th>participantBirthYear</th>\n",
       "      <th>participantWeightLbs</th>\n",
       "      <th>participantHeightCms</th>\n",
       "      <th>testName</th>\n",
       "      <th>testMetricName</th>\n",
       "      <th>testResultMetricId</th>\n",
       "      <th>testResultMetricCreatedOn</th>\n",
       "      <th>testResultMetricTimestamp1</th>\n",
       "      <th>testResultMetricTimestamp2</th>\n",
       "      <th>testResultMetricValue</th>\n",
       "      <th>Unnamed: 16</th>\n",
       "    </tr>\n",
       "  </thead>\n",
       "  <tbody>\n",
       "    <tr>\n",
       "      <th>0</th>\n",
       "      <td>FL10038084</td>\n",
       "      <td>4/23/2018 12:12:03 AM +00:00</td>\n",
       "      <td>66</td>\n",
       "      <td>True</td>\n",
       "      <td>US</td>\n",
       "      <td>male</td>\n",
       "      <td>1966</td>\n",
       "      <td>159.0</td>\n",
       "      <td>178.0</td>\n",
       "      <td>Daily Questions</td>\n",
       "      <td>Mood Response</td>\n",
       "      <td>115524</td>\n",
       "      <td>4/23/2018 12:22:57 AM +00:00</td>\n",
       "      <td>NaN</td>\n",
       "      <td>NaN</td>\n",
       "      <td>4.00</td>\n",
       "      <td>NaN</td>\n",
       "    </tr>\n",
       "    <tr>\n",
       "      <th>1</th>\n",
       "      <td>FL10038084</td>\n",
       "      <td>4/23/2018 12:12:03 AM +00:00</td>\n",
       "      <td>66</td>\n",
       "      <td>True</td>\n",
       "      <td>US</td>\n",
       "      <td>male</td>\n",
       "      <td>1966</td>\n",
       "      <td>159.0</td>\n",
       "      <td>178.0</td>\n",
       "      <td>Daily Questions</td>\n",
       "      <td>Mood Response</td>\n",
       "      <td>116040</td>\n",
       "      <td>4/25/2018 4:04:32 AM +00:00</td>\n",
       "      <td>NaN</td>\n",
       "      <td>NaN</td>\n",
       "      <td>5.00</td>\n",
       "      <td>NaN</td>\n",
       "    </tr>\n",
       "    <tr>\n",
       "      <th>2</th>\n",
       "      <td>FL10038084</td>\n",
       "      <td>4/23/2018 12:12:03 AM +00:00</td>\n",
       "      <td>66</td>\n",
       "      <td>True</td>\n",
       "      <td>US</td>\n",
       "      <td>male</td>\n",
       "      <td>1966</td>\n",
       "      <td>159.0</td>\n",
       "      <td>178.0</td>\n",
       "      <td>Information Processing Speed Baseline Test</td>\n",
       "      <td>Correct Responses</td>\n",
       "      <td>116041</td>\n",
       "      <td>4/25/2018 4:06:51 AM +00:00</td>\n",
       "      <td>NaN</td>\n",
       "      <td>NaN</td>\n",
       "      <td>16.00</td>\n",
       "      <td>NaN</td>\n",
       "    </tr>\n",
       "    <tr>\n",
       "      <th>3</th>\n",
       "      <td>FL10038084</td>\n",
       "      <td>4/23/2018 12:12:03 AM +00:00</td>\n",
       "      <td>66</td>\n",
       "      <td>True</td>\n",
       "      <td>US</td>\n",
       "      <td>male</td>\n",
       "      <td>1966</td>\n",
       "      <td>159.0</td>\n",
       "      <td>178.0</td>\n",
       "      <td>Information Processing Speed Baseline Test</td>\n",
       "      <td>Response Time Average</td>\n",
       "      <td>116042</td>\n",
       "      <td>4/25/2018 4:06:51 AM +00:00</td>\n",
       "      <td>NaN</td>\n",
       "      <td>NaN</td>\n",
       "      <td>0.94</td>\n",
       "      <td>NaN</td>\n",
       "    </tr>\n",
       "    <tr>\n",
       "      <th>4</th>\n",
       "      <td>FL10038084</td>\n",
       "      <td>4/23/2018 12:12:03 AM +00:00</td>\n",
       "      <td>66</td>\n",
       "      <td>True</td>\n",
       "      <td>US</td>\n",
       "      <td>male</td>\n",
       "      <td>1966</td>\n",
       "      <td>159.0</td>\n",
       "      <td>178.0</td>\n",
       "      <td>IPS</td>\n",
       "      <td>Correct Responses</td>\n",
       "      <td>116043</td>\n",
       "      <td>4/25/2018 4:06:51 AM +00:00</td>\n",
       "      <td>NaN</td>\n",
       "      <td>NaN</td>\n",
       "      <td>39.00</td>\n",
       "      <td>NaN</td>\n",
       "    </tr>\n",
       "  </tbody>\n",
       "</table>\n",
       "</div>"
      ],
      "text/plain": [
       "  floodlightOpenId          participantCreatedOn  participantDemographicId  \\\n",
       "0       FL10038084  4/23/2018 12:12:03 AM +00:00                        66   \n",
       "1       FL10038084  4/23/2018 12:12:03 AM +00:00                        66   \n",
       "2       FL10038084  4/23/2018 12:12:03 AM +00:00                        66   \n",
       "3       FL10038084  4/23/2018 12:12:03 AM +00:00                        66   \n",
       "4       FL10038084  4/23/2018 12:12:03 AM +00:00                        66   \n",
       "\n",
       "   participantIsControl participantCountryOfResidence participantSex  \\\n",
       "0                  True                            US           male   \n",
       "1                  True                            US           male   \n",
       "2                  True                            US           male   \n",
       "3                  True                            US           male   \n",
       "4                  True                            US           male   \n",
       "\n",
       "   participantBirthYear  participantWeightLbs  participantHeightCms  \\\n",
       "0                  1966                 159.0                 178.0   \n",
       "1                  1966                 159.0                 178.0   \n",
       "2                  1966                 159.0                 178.0   \n",
       "3                  1966                 159.0                 178.0   \n",
       "4                  1966                 159.0                 178.0   \n",
       "\n",
       "                                     testName         testMetricName  \\\n",
       "0                             Daily Questions          Mood Response   \n",
       "1                             Daily Questions          Mood Response   \n",
       "2  Information Processing Speed Baseline Test      Correct Responses   \n",
       "3  Information Processing Speed Baseline Test  Response Time Average   \n",
       "4                                         IPS      Correct Responses   \n",
       "\n",
       "   testResultMetricId     testResultMetricCreatedOn  \\\n",
       "0              115524  4/23/2018 12:22:57 AM +00:00   \n",
       "1              116040   4/25/2018 4:04:32 AM +00:00   \n",
       "2              116041   4/25/2018 4:06:51 AM +00:00   \n",
       "3              116042   4/25/2018 4:06:51 AM +00:00   \n",
       "4              116043   4/25/2018 4:06:51 AM +00:00   \n",
       "\n",
       "  testResultMetricTimestamp1 testResultMetricTimestamp2  \\\n",
       "0                        NaN                        NaN   \n",
       "1                        NaN                        NaN   \n",
       "2                        NaN                        NaN   \n",
       "3                        NaN                        NaN   \n",
       "4                        NaN                        NaN   \n",
       "\n",
       "   testResultMetricValue  Unnamed: 16  \n",
       "0                   4.00          NaN  \n",
       "1                   5.00          NaN  \n",
       "2                  16.00          NaN  \n",
       "3                   0.94          NaN  \n",
       "4                  39.00          NaN  "
      ]
     },
     "execution_count": 79,
     "metadata": {},
     "output_type": "execute_result"
    }
   ],
   "source": [
    "# First glimpse\n",
    "raw_df.head()"
   ]
  },
  {
   "cell_type": "code",
   "execution_count": 8,
   "metadata": {},
   "outputs": [
    {
     "data": {
      "text/html": [
       "<div>\n",
       "<style scoped>\n",
       "    .dataframe tbody tr th:only-of-type {\n",
       "        vertical-align: middle;\n",
       "    }\n",
       "\n",
       "    .dataframe tbody tr th {\n",
       "        vertical-align: top;\n",
       "    }\n",
       "\n",
       "    .dataframe thead th {\n",
       "        text-align: right;\n",
       "    }\n",
       "</style>\n",
       "<table border=\"1\" class=\"dataframe\">\n",
       "  <thead>\n",
       "    <tr style=\"text-align: right;\">\n",
       "      <th></th>\n",
       "      <th>floodlightOpenId</th>\n",
       "      <th>participantCreatedOn</th>\n",
       "      <th>participantDemographicId</th>\n",
       "      <th>participantIsControl</th>\n",
       "      <th>participantCountryOfResidence</th>\n",
       "      <th>participantSex</th>\n",
       "      <th>participantBirthYear</th>\n",
       "      <th>participantWeightLbs</th>\n",
       "      <th>participantHeightCms</th>\n",
       "      <th>testName</th>\n",
       "      <th>testMetricName</th>\n",
       "      <th>testResultMetricId</th>\n",
       "      <th>testResultMetricCreatedOn</th>\n",
       "      <th>testResultMetricTimestamp1</th>\n",
       "      <th>testResultMetricTimestamp2</th>\n",
       "      <th>testResultMetricValue</th>\n",
       "      <th>Unnamed: 16</th>\n",
       "    </tr>\n",
       "  </thead>\n",
       "  <tbody>\n",
       "    <tr>\n",
       "      <th>9995</th>\n",
       "      <td>FL75533705</td>\n",
       "      <td>9/11/2018 10:00:07 PM +00:00</td>\n",
       "      <td>289</td>\n",
       "      <td>False</td>\n",
       "      <td>CA</td>\n",
       "      <td>female</td>\n",
       "      <td>1985</td>\n",
       "      <td>175.0</td>\n",
       "      <td>171.0</td>\n",
       "      <td>Draw A Shape</td>\n",
       "      <td>Hand Used</td>\n",
       "      <td>126125</td>\n",
       "      <td>9/11/2018 10:11:10 PM +00:00</td>\n",
       "      <td>NaN</td>\n",
       "      <td>NaN</td>\n",
       "      <td>1.00</td>\n",
       "      <td>NaN</td>\n",
       "    </tr>\n",
       "    <tr>\n",
       "      <th>9996</th>\n",
       "      <td>FL75533705</td>\n",
       "      <td>9/11/2018 10:00:07 PM +00:00</td>\n",
       "      <td>289</td>\n",
       "      <td>False</td>\n",
       "      <td>CA</td>\n",
       "      <td>female</td>\n",
       "      <td>1985</td>\n",
       "      <td>175.0</td>\n",
       "      <td>171.0</td>\n",
       "      <td>Static Balance</td>\n",
       "      <td>Sway Path</td>\n",
       "      <td>126126</td>\n",
       "      <td>9/11/2018 10:12:35 PM +00:00</td>\n",
       "      <td>NaN</td>\n",
       "      <td>NaN</td>\n",
       "      <td>8.07</td>\n",
       "      <td>NaN</td>\n",
       "    </tr>\n",
       "    <tr>\n",
       "      <th>9997</th>\n",
       "      <td>FL75533705</td>\n",
       "      <td>9/11/2018 10:00:07 PM +00:00</td>\n",
       "      <td>289</td>\n",
       "      <td>False</td>\n",
       "      <td>CA</td>\n",
       "      <td>female</td>\n",
       "      <td>1985</td>\n",
       "      <td>175.0</td>\n",
       "      <td>171.0</td>\n",
       "      <td>Five UTurn Test</td>\n",
       "      <td>Turns</td>\n",
       "      <td>126127</td>\n",
       "      <td>9/11/2018 10:14:17 PM +00:00</td>\n",
       "      <td>NaN</td>\n",
       "      <td>NaN</td>\n",
       "      <td>9.00</td>\n",
       "      <td>NaN</td>\n",
       "    </tr>\n",
       "    <tr>\n",
       "      <th>9998</th>\n",
       "      <td>FL75533705</td>\n",
       "      <td>9/11/2018 10:00:07 PM +00:00</td>\n",
       "      <td>289</td>\n",
       "      <td>False</td>\n",
       "      <td>CA</td>\n",
       "      <td>female</td>\n",
       "      <td>1985</td>\n",
       "      <td>175.0</td>\n",
       "      <td>171.0</td>\n",
       "      <td>Five UTurn Test</td>\n",
       "      <td>Turn Speed Average</td>\n",
       "      <td>126128</td>\n",
       "      <td>9/11/2018 10:14:17 PM +00:00</td>\n",
       "      <td>NaN</td>\n",
       "      <td>NaN</td>\n",
       "      <td>1.11</td>\n",
       "      <td>NaN</td>\n",
       "    </tr>\n",
       "    <tr>\n",
       "      <th>9999</th>\n",
       "      <td>FL75533705</td>\n",
       "      <td>9/11/2018 10:00:07 PM +00:00</td>\n",
       "      <td>289</td>\n",
       "      <td>False</td>\n",
       "      <td>CA</td>\n",
       "      <td>female</td>\n",
       "      <td>1985</td>\n",
       "      <td>175.0</td>\n",
       "      <td>171.0</td>\n",
       "      <td>Mobility</td>\n",
       "      <td>Life Space Daily</td>\n",
       "      <td>126129</td>\n",
       "      <td>9/11/2018 11:41:00 PM +00:00</td>\n",
       "      <td>NaN</td>\n",
       "      <td>NaN</td>\n",
       "      <td>0.00</td>\n",
       "      <td>NaN</td>\n",
       "    </tr>\n",
       "  </tbody>\n",
       "</table>\n",
       "</div>"
      ],
      "text/plain": [
       "     floodlightOpenId          participantCreatedOn  participantDemographicId  \\\n",
       "9995       FL75533705  9/11/2018 10:00:07 PM +00:00                       289   \n",
       "9996       FL75533705  9/11/2018 10:00:07 PM +00:00                       289   \n",
       "9997       FL75533705  9/11/2018 10:00:07 PM +00:00                       289   \n",
       "9998       FL75533705  9/11/2018 10:00:07 PM +00:00                       289   \n",
       "9999       FL75533705  9/11/2018 10:00:07 PM +00:00                       289   \n",
       "\n",
       "      participantIsControl participantCountryOfResidence participantSex  \\\n",
       "9995                 False                            CA         female   \n",
       "9996                 False                            CA         female   \n",
       "9997                 False                            CA         female   \n",
       "9998                 False                            CA         female   \n",
       "9999                 False                            CA         female   \n",
       "\n",
       "      participantBirthYear  participantWeightLbs  participantHeightCms  \\\n",
       "9995                  1985                 175.0                 171.0   \n",
       "9996                  1985                 175.0                 171.0   \n",
       "9997                  1985                 175.0                 171.0   \n",
       "9998                  1985                 175.0                 171.0   \n",
       "9999                  1985                 175.0                 171.0   \n",
       "\n",
       "             testName      testMetricName  testResultMetricId  \\\n",
       "9995     Draw A Shape           Hand Used              126125   \n",
       "9996   Static Balance           Sway Path              126126   \n",
       "9997  Five UTurn Test               Turns              126127   \n",
       "9998  Five UTurn Test  Turn Speed Average              126128   \n",
       "9999         Mobility    Life Space Daily              126129   \n",
       "\n",
       "         testResultMetricCreatedOn testResultMetricTimestamp1  \\\n",
       "9995  9/11/2018 10:11:10 PM +00:00                        NaN   \n",
       "9996  9/11/2018 10:12:35 PM +00:00                        NaN   \n",
       "9997  9/11/2018 10:14:17 PM +00:00                        NaN   \n",
       "9998  9/11/2018 10:14:17 PM +00:00                        NaN   \n",
       "9999  9/11/2018 11:41:00 PM +00:00                        NaN   \n",
       "\n",
       "     testResultMetricTimestamp2  testResultMetricValue  Unnamed: 16  \n",
       "9995                        NaN                   1.00          NaN  \n",
       "9996                        NaN                   8.07          NaN  \n",
       "9997                        NaN                   9.00          NaN  \n",
       "9998                        NaN                   1.11          NaN  \n",
       "9999                        NaN                   0.00          NaN  "
      ]
     },
     "execution_count": 8,
     "metadata": {},
     "output_type": "execute_result"
    }
   ],
   "source": [
    "# Latest entries are at the end\n",
    "raw_df.tail()"
   ]
  },
  {
   "cell_type": "code",
   "execution_count": 9,
   "metadata": {},
   "outputs": [
    {
     "data": {
      "text/plain": [
       "(10000, 17)"
      ]
     },
     "execution_count": 9,
     "metadata": {},
     "output_type": "execute_result"
    }
   ],
   "source": [
    "# Total matrix size, seens that this file grew since last run :-)\n",
    "raw_df.shape\n",
    "\n",
    "# Exactly 10,000 ?? Looks like someone is 'curating' this data, but really recent data."
   ]
  },
  {
   "cell_type": "code",
   "execution_count": 47,
   "metadata": {},
   "outputs": [
    {
     "data": {
      "text/html": [
       "<div>\n",
       "<style scoped>\n",
       "    .dataframe tbody tr th:only-of-type {\n",
       "        vertical-align: middle;\n",
       "    }\n",
       "\n",
       "    .dataframe tbody tr th {\n",
       "        vertical-align: top;\n",
       "    }\n",
       "\n",
       "    .dataframe thead th {\n",
       "        text-align: right;\n",
       "    }\n",
       "</style>\n",
       "<table border=\"1\" class=\"dataframe\">\n",
       "  <thead>\n",
       "    <tr style=\"text-align: right;\">\n",
       "      <th></th>\n",
       "      <th>participantDemographicId</th>\n",
       "      <th>participantBirthYear</th>\n",
       "      <th>participantWeightLbs</th>\n",
       "      <th>participantHeightCms</th>\n",
       "      <th>testResultMetricId</th>\n",
       "      <th>testResultMetricValue</th>\n",
       "      <th>Unnamed: 16</th>\n",
       "    </tr>\n",
       "  </thead>\n",
       "  <tbody>\n",
       "    <tr>\n",
       "      <th>count</th>\n",
       "      <td>10000.000000</td>\n",
       "      <td>10000.000000</td>\n",
       "      <td>10000.000000</td>\n",
       "      <td>10000.000000</td>\n",
       "      <td>10000.000000</td>\n",
       "      <td>10000.000000</td>\n",
       "      <td>0.0</td>\n",
       "    </tr>\n",
       "    <tr>\n",
       "      <th>mean</th>\n",
       "      <td>160.416400</td>\n",
       "      <td>1976.868300</td>\n",
       "      <td>183.874900</td>\n",
       "      <td>161.211000</td>\n",
       "      <td>121107.042000</td>\n",
       "      <td>35.915352</td>\n",
       "      <td>NaN</td>\n",
       "    </tr>\n",
       "    <tr>\n",
       "      <th>std</th>\n",
       "      <td>60.428117</td>\n",
       "      <td>10.704663</td>\n",
       "      <td>64.936883</td>\n",
       "      <td>39.739283</td>\n",
       "      <td>2916.959754</td>\n",
       "      <td>334.106781</td>\n",
       "      <td>NaN</td>\n",
       "    </tr>\n",
       "    <tr>\n",
       "      <th>min</th>\n",
       "      <td>66.000000</td>\n",
       "      <td>1950.000000</td>\n",
       "      <td>112.000000</td>\n",
       "      <td>6.000000</td>\n",
       "      <td>115524.000000</td>\n",
       "      <td>0.000000</td>\n",
       "      <td>NaN</td>\n",
       "    </tr>\n",
       "    <tr>\n",
       "      <th>25%</th>\n",
       "      <td>110.000000</td>\n",
       "      <td>1970.000000</td>\n",
       "      <td>136.000000</td>\n",
       "      <td>160.000000</td>\n",
       "      <td>118609.750000</td>\n",
       "      <td>0.140000</td>\n",
       "      <td>NaN</td>\n",
       "    </tr>\n",
       "    <tr>\n",
       "      <th>50%</th>\n",
       "      <td>148.000000</td>\n",
       "      <td>1974.000000</td>\n",
       "      <td>168.000000</td>\n",
       "      <td>168.000000</td>\n",
       "      <td>121129.500000</td>\n",
       "      <td>1.000000</td>\n",
       "      <td>NaN</td>\n",
       "    </tr>\n",
       "    <tr>\n",
       "      <th>75%</th>\n",
       "      <td>224.000000</td>\n",
       "      <td>1985.000000</td>\n",
       "      <td>190.000000</td>\n",
       "      <td>178.000000</td>\n",
       "      <td>123629.250000</td>\n",
       "      <td>7.207500</td>\n",
       "      <td>NaN</td>\n",
       "    </tr>\n",
       "    <tr>\n",
       "      <th>max</th>\n",
       "      <td>289.000000</td>\n",
       "      <td>2017.000000</td>\n",
       "      <td>486.000000</td>\n",
       "      <td>300.000000</td>\n",
       "      <td>126129.000000</td>\n",
       "      <td>9607.600000</td>\n",
       "      <td>NaN</td>\n",
       "    </tr>\n",
       "  </tbody>\n",
       "</table>\n",
       "</div>"
      ],
      "text/plain": [
       "       participantDemographicId  participantBirthYear  participantWeightLbs  \\\n",
       "count              10000.000000          10000.000000          10000.000000   \n",
       "mean                 160.416400           1976.868300            183.874900   \n",
       "std                   60.428117             10.704663             64.936883   \n",
       "min                   66.000000           1950.000000            112.000000   \n",
       "25%                  110.000000           1970.000000            136.000000   \n",
       "50%                  148.000000           1974.000000            168.000000   \n",
       "75%                  224.000000           1985.000000            190.000000   \n",
       "max                  289.000000           2017.000000            486.000000   \n",
       "\n",
       "       participantHeightCms  testResultMetricId  testResultMetricValue  \\\n",
       "count          10000.000000        10000.000000           10000.000000   \n",
       "mean             161.211000       121107.042000              35.915352   \n",
       "std               39.739283         2916.959754             334.106781   \n",
       "min                6.000000       115524.000000               0.000000   \n",
       "25%              160.000000       118609.750000               0.140000   \n",
       "50%              168.000000       121129.500000               1.000000   \n",
       "75%              178.000000       123629.250000               7.207500   \n",
       "max              300.000000       126129.000000            9607.600000   \n",
       "\n",
       "       Unnamed: 16  \n",
       "count          0.0  \n",
       "mean           NaN  \n",
       "std            NaN  \n",
       "min            NaN  \n",
       "25%            NaN  \n",
       "50%            NaN  \n",
       "75%            NaN  \n",
       "max            NaN  "
      ]
     },
     "execution_count": 47,
     "metadata": {},
     "output_type": "execute_result"
    }
   ],
   "source": [
    "# Doesn't make much sense, but for height and weight, Median of Birth Year is 1974\n",
    "raw_df.describe()"
   ]
  },
  {
   "cell_type": "code",
   "execution_count": 42,
   "metadata": {},
   "outputs": [
    {
     "name": "stdout",
     "output_type": "stream",
     "text": [
      "Unique app users: 188\n"
     ]
    }
   ],
   "source": [
    "# How many participants do we have in total?\n",
    "print(\"Unique app users: \" + str(len(raw_df.floodlightOpenId.unique())))"
   ]
  },
  {
   "cell_type": "code",
   "execution_count": 43,
   "metadata": {},
   "outputs": [
    {
     "name": "stdout",
     "output_type": "stream",
     "text": [
      "Unique Demographic ID: 188\n"
     ]
    }
   ],
   "source": [
    "# Where are they from?\n",
    "unique_locations = raw_df.participantDemographicId.unique()\n",
    "print(\"Unique Demographic ID: \" + str(len(unique_locations)))\n",
    "\n",
    "# What? All are from a different location? \n",
    "# Not clear what kind of location this participantDemographicId is encoding. City? State?"
   ]
  },
  {
   "cell_type": "code",
   "execution_count": 45,
   "metadata": {},
   "outputs": [
    {
     "data": {
      "text/plain": [
       "participantIsControl\n",
       "False    4314\n",
       "True     5686\n",
       "Name: participantIsControl, dtype: int64"
      ]
     },
     "execution_count": 45,
     "metadata": {},
     "output_type": "execute_result"
    }
   ],
   "source": [
    "\n",
    "# What does this mean? Half of the participants are healthy?\n",
    "raw_df.groupby('participantIsControl')['participantIsControl'].count()"
   ]
  },
  {
   "cell_type": "code",
   "execution_count": 48,
   "metadata": {},
   "outputs": [
    {
     "data": {
      "text/plain": [
       "participantCountryOfResidence\n",
       "CA     136\n",
       "GB      16\n",
       "US    9848\n",
       "Name: participantCountryOfResidence, dtype: int64"
      ]
     },
     "execution_count": 48,
     "metadata": {},
     "output_type": "execute_result"
    }
   ],
   "source": [
    "raw_df.groupby('participantCountryOfResidence')['participantCountryOfResidence'].count()"
   ]
  },
  {
   "cell_type": "code",
   "execution_count": 49,
   "metadata": {},
   "outputs": [
    {
     "data": {
      "text/plain": [
       "participantSex\n",
       "female    5863\n",
       "male      4137\n",
       "Name: participantSex, dtype: int64"
      ]
     },
     "execution_count": 49,
     "metadata": {},
     "output_type": "execute_result"
    }
   ],
   "source": [
    "raw_df.groupby('participantSex')['participantSex'].count()"
   ]
  },
  {
   "cell_type": "code",
   "execution_count": 50,
   "metadata": {},
   "outputs": [
    {
     "data": {
      "text/plain": [
       "array([1966, 1964, 1963, 1997, 1972, 1990, 1974, 1971, 1982, 1978, 1969,\n",
       "       1977, 1985, 1965, 1979, 1986, 1983, 1987, 1975, 1976, 1970, 1980,\n",
       "       1984, 1968, 1973, 1991, 1967, 1954, 1981, 1950, 1993, 1961, 1988,\n",
       "       1962, 1960, 1959, 1995, 2016, 1998, 1956, 1989, 1957, 1958, 1992,\n",
       "       1953, 2017], dtype=int64)"
      ]
     },
     "execution_count": 50,
     "metadata": {},
     "output_type": "execute_result"
    }
   ],
   "source": [
    "# Let's have a look at the age distribution\n",
    "raw_df.participantBirthYear.unique()"
   ]
  },
  {
   "cell_type": "code",
   "execution_count": 51,
   "metadata": {},
   "outputs": [],
   "source": [
    "# aggregate participants per birth year\n",
    "birthYear = raw_df.groupby('participantBirthYear')['floodlightOpenId'].nunique()"
   ]
  },
  {
   "cell_type": "code",
   "execution_count": 84,
   "metadata": {},
   "outputs": [
    {
     "data": {
      "text/plain": [
       "<matplotlib.axes._subplots.AxesSubplot at 0x1bf544f33c8>"
      ]
     },
     "execution_count": 84,
     "metadata": {},
     "output_type": "execute_result"
    },
    {
     "data": {
      "image/png": "[encoded data removed]",
      "text/plain": [
       "<Figure size 1440x720 with 1 Axes>"
      ]
     },
     "metadata": {},
     "output_type": "display_data"
    }
   ],
   "source": [
    "# have a visual view, value 2016 is a 'mistake' I guess\n",
    "birthYear.plot(kind=\"bar\", figsize= (20,10), color=\"#3F5D7D\")"
   ]
  },
  {
   "cell_type": "code",
   "execution_count": 60,
   "metadata": {},
   "outputs": [],
   "source": [
    "# The first 10 columns do not change, over time. This is basically master data and is redundant information.\n",
    "# As this is eventually put into MongoDB, it might be Ok in this format.\n",
    "\n",
    "masterdata_df = raw_df.iloc[:,0:9]"
   ]
  },
  {
   "cell_type": "code",
   "execution_count": 61,
   "metadata": {},
   "outputs": [
    {
     "data": {
      "text/plain": [
       "<seaborn.axisgrid.FacetGrid at 0x1bf54b75a20>"
      ]
     },
     "execution_count": 61,
     "metadata": {},
     "output_type": "execute_result"
    },
    {
     "data": {
      "image/png": "[encoded data removed]",
      "text/plain": [
       "<Figure size 1152x576 with 1 Axes>"
      ]
     },
     "metadata": {},
     "output_type": "display_data"
    },
    {
     "data": {
      "image/png": "[encoded data removed]",
      "text/plain": [
       "<Figure size 1152x576 with 1 Axes>"
      ]
     },
     "metadata": {},
     "output_type": "display_data"
    }
   ],
   "source": [
    "# Same as above with matplotlib, now seaborn\n",
    "\n",
    "unique_individuals = masterdata_df.drop_duplicates()\n",
    "\n",
    "# birth year distribution\n",
    "years = np.arange(1950, 2018)\n",
    "g = sns.factorplot(x=\"participantBirthYear\", data=unique_individuals, kind=\"count\",\n",
    "                   palette=\"Spectral\", size=8, aspect=2, order=years)\n",
    "g.set_xticklabels(step=2)\n",
    "\n",
    "\n",
    "# have a look at the height\n",
    "g = sns.factorplot(x=\"participantHeightCms\", data=unique_individuals, kind=\"count\",\n",
    "                   palette=\"Spectral\", size=8, aspect=2)\n",
    "g.set_xticklabels(step=2)\n",
    "\n",
    "# Why are so many 178 cm? Is this the default value in the app? Should be more bell shaped"
   ]
  },
  {
   "cell_type": "code",
   "execution_count": 62,
   "metadata": {},
   "outputs": [
    {
     "data": {
      "text/plain": [
       "<seaborn.axisgrid.FacetGrid at 0x1bf557e7eb8>"
      ]
     },
     "execution_count": 62,
     "metadata": {},
     "output_type": "execute_result"
    },
    {
     "data": {
      "image/png": "[encoded data removed]",
      "text/plain": [
       "<Figure size 1152x576 with 1 Axes>"
      ]
     },
     "metadata": {},
     "output_type": "display_data"
    }
   ],
   "source": [
    "# convert from lbs to kilos and add as separate column\n",
    "unique_individuals = unique_individuals.assign(participantWeightKilo = lambda x: np.around(0.453592*(x.participantWeightLbs),1))\n",
    "\n",
    "# have a look at the height\n",
    "g = sns.factorplot(x=\"participantWeightKilo\", data=unique_individuals, kind=\"count\",\n",
    "                   palette=\"Spectral\", size=8, aspect=2)\n",
    "g.set_xticklabels(step=2)\n",
    "\n",
    "# Again, 83 kilos is the default??\n",
    "# --> Looks like there ar e at least more than 10 people who might not give correct height and weight"
   ]
  },
  {
   "cell_type": "code",
   "execution_count": 65,
   "metadata": {},
   "outputs": [
    {
     "data": {
      "text/plain": [
       "float64    4\n",
       "int64      3\n",
       "bool       1\n",
       "object     9\n",
       "dtype: int64"
      ]
     },
     "execution_count": 65,
     "metadata": {},
     "output_type": "execute_result"
    }
   ],
   "source": [
    "raw_df.get_dtype_counts()"
   ]
  },
  {
   "cell_type": "code",
   "execution_count": 67,
   "metadata": {},
   "outputs": [],
   "source": [
    "grouped = masterdata_df.groupby(\"floodlightOpenId\")"
   ]
  },
  {
   "cell_type": "code",
   "execution_count": 68,
   "metadata": {},
   "outputs": [
    {
     "data": {
      "text/plain": [
       "RangeIndex(start=0, stop=10000, step=1)"
      ]
     },
     "execution_count": 68,
     "metadata": {},
     "output_type": "execute_result"
    }
   ],
   "source": [
    "raw_df.index"
   ]
  },
  {
   "cell_type": "code",
   "execution_count": 70,
   "metadata": {},
   "outputs": [],
   "source": [
    "testMetric = raw_df.groupby('testMetricName')['floodlightOpenId'].nunique()"
   ]
  },
  {
   "cell_type": "code",
   "execution_count": 71,
   "metadata": {},
   "outputs": [
    {
     "data": {
      "text/plain": [
       "testMetricName\n",
       "Bottom To Top Hausdorff Distance Best    152\n",
       "Circle Hausdorff Distance Best           151\n",
       "Correct Responses                        155\n",
       "Figure 8 Hausdorff Distance Best         152\n",
       "Hand Used                                152\n",
       "Life Space Daily                         131\n",
       "Mean Hausdorff Distance Best             153\n",
       "Mood Response                            176\n",
       "Number of shapes drawn correctly         150\n",
       "Response Time Average                    155\n",
       "Spiral Hausdorff Distance Best           152\n",
       "Square Hausdorff Distance Best           152\n",
       "Steps                                     47\n",
       "Successful Pinches                       155\n",
       "Sway Path                                138\n",
       "Top to bottom Hausdorff Distance Best    152\n",
       "Turn Speed Average                       113\n",
       "Turns                                    113\n",
       "Name: floodlightOpenId, dtype: int64"
      ]
     },
     "execution_count": 71,
     "metadata": {},
     "output_type": "execute_result"
    }
   ],
   "source": [
    "testMetric"
   ]
  },
  {
   "cell_type": "code",
   "execution_count": 72,
   "metadata": {},
   "outputs": [],
   "source": [
    "datapoints_per_id = raw_df.groupby('floodlightOpenId')['testResultMetricId'].count()"
   ]
  },
  {
   "cell_type": "code",
   "execution_count": 73,
   "metadata": {},
   "outputs": [
    {
     "data": {
      "text/plain": [
       "floodlightOpenId\n",
       "FL16980344    1336\n",
       "FL83356285     515\n",
       "FL72385624     402\n",
       "FL49559827     355\n",
       "FL48413206     284\n",
       "Name: testResultMetricId, dtype: int64"
      ]
     },
     "execution_count": 73,
     "metadata": {},
     "output_type": "execute_result"
    }
   ],
   "source": [
    "# Top datapoint producers\n",
    "datapoints_per_id.sort_values(ascending=False).head()"
   ]
  },
  {
   "cell_type": "code",
   "execution_count": 74,
   "metadata": {},
   "outputs": [
    {
     "data": {
      "text/plain": [
       "<matplotlib.axes._subplots.AxesSubplot at 0x1bf56000fd0>"
      ]
     },
     "execution_count": 74,
     "metadata": {},
     "output_type": "execute_result"
    },
    {
     "data": {
      "image/png": "[encoded data removed]",
      "text/plain": [
       "<Figure size 1080x1080 with 1 Axes>"
      ]
     },
     "metadata": {},
     "output_type": "display_data"
    }
   ],
   "source": [
    "datapoints_per_id.plot(kind=\"bar\", figsize= (15,15))"
   ]
  },
  {
   "cell_type": "code",
   "execution_count": 75,
   "metadata": {},
   "outputs": [
    {
     "data": {
      "text/plain": [
       "count     188.000000\n",
       "mean       53.191489\n",
       "std       114.307801\n",
       "min         1.000000\n",
       "25%        17.000000\n",
       "50%        24.000000\n",
       "75%        55.250000\n",
       "max      1336.000000\n",
       "Name: testResultMetricId, dtype: float64"
      ]
     },
     "execution_count": 75,
     "metadata": {},
     "output_type": "execute_result"
    }
   ],
   "source": [
    "datapoints_per_id.describe()"
   ]
  },
  {
   "cell_type": "code",
   "execution_count": null,
   "metadata": {},
   "outputs": [],
   "source": []
  },
  {
   "cell_type": "code",
   "execution_count": null,
   "metadata": {},
   "outputs": [],
   "source": []
  },
  {
   "cell_type": "markdown",
   "metadata": {},
   "source": [
    "Playing with $TeX$\n",
    "\n",
    "$l^{th}$\n",
    "\n",
    "$$ \n",
    "A = 5^3\n",
    "$$"
   ]
  },
  {
   "cell_type": "code",
   "execution_count": 154,
   "metadata": {},
   "outputs": [
    {
     "data": {
      "text/plain": [
       "'3.6.5 |Anaconda, Inc.| (default, Mar 29 2018, 13:32:41) [MSC v.1900 64 bit (AMD64)]'"
      ]
     },
     "execution_count": 154,
     "metadata": {},
     "output_type": "execute_result"
    }
   ],
   "source": [
    "import sys\n",
    "sys.version"
   ]
  }
 ],
 "metadata": {
  "kernelspec": {
   "display_name": "Python 3",
   "language": "python",
   "name": "python3"
  },
  "language_info": {
   "codemirror_mode": {
    "name": "ipython",
    "version": 3
   },
   "file_extension": ".py",
   "mimetype": "text/x-python",
   "name": "python",
   "nbconvert_exporter": "python",
   "pygments_lexer": "ipython3",
   "version": "3.6.5"
  },
  "latex_metadata": {
   "affiliation": "wega Informatik AG, Basel, Switzerland",
   "author": "Manuel Kohler",
   "title": "Exploratory Analysis of Genetech's Floodlight data"
  }
 },
 "nbformat": 4,
 "nbformat_minor": 2
}
